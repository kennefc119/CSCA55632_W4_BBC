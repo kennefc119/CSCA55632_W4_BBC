{
 "cells": [
  {
   "cell_type": "markdown",
   "id": "43e63315",
   "metadata": {},
   "source": [
    "# Part 2\n",
    "\n",
    "The movie data is being imported into Jupyternotebook and the collection is stored as \"data\""
   ]
  },
  {
   "cell_type": "code",
   "execution_count": 9,
   "id": "b681d53a",
   "metadata": {},
   "outputs": [
    {
     "name": "stdout",
     "output_type": "stream",
     "text": [
      "    uID   mID  rating\n",
      "0   744  1210       5\n",
      "1  3040  1584       4\n",
      "2  1451  1293       5\n",
      "3  5455  3176       2\n",
      "4  2507  3074       5\n",
      "5  1465  1210       5\n",
      "6  1050  2390       4\n",
      "7  1587  1866       2\n",
      "8  1611   551       5\n",
      "9  3507  2580       3\n"
     ]
    }
   ],
   "source": [
    "import pandas as pd\n",
    "import matplotlib.pyplot as plt\n",
    "import numpy as np\n",
    "import time\n",
    "from sklearn.model_selection import train_test_split\n",
    "from scipy.sparse import coo_matrix, csr_matrix\n",
    "from scipy.spatial.distance import jaccard, cosine \n",
    "from pytest import approx\n",
    "\n",
    "#Load Data\n",
    "MV_users = pd.read_csv('data/users.csv')\n",
    "MV_movies = pd.read_csv('data/movies.csv')\n",
    "train = pd.read_csv('data/train.csv')\n",
    "test = pd.read_csv('data/test.csv')\n",
    "\n",
    "print (train.head(10))\n",
    "\n",
    "#Structure Data in collections.namedtuple\n",
    "from collections import namedtuple\n",
    "Data = namedtuple('Data', ['users','movies','train','test'])\n",
    "data = Data(MV_users, MV_movies, train, test)"
   ]
  },
  {
   "cell_type": "markdown",
   "id": "941863a1",
   "metadata": {},
   "source": [
    "- Matrix Factorization technique is used to factorize the rating matrix (users x movies).\n",
    "\n",
    "- The prediction of rating of given UID and MID is the dot product of user latent feature (uid) and mocie latent feature (mid)\n"
   ]
  },
  {
   "cell_type": "code",
   "execution_count": 10,
   "id": "d1212ec9",
   "metadata": {},
   "outputs": [
    {
     "name": "stdout",
     "output_type": "stream",
     "text": [
      "(3152, 21)\n",
      "(5769, 5)\n",
      "Model_A RMSE: 2.8168254488518953\n"
     ]
    }
   ],
   "source": [
    "from sklearn.decomposition import NMF\n",
    "\n",
    "class RecSys():\n",
    "    def __init__(self, data, latent_dim=20, average_rating = False):\n",
    "        self.data = data\n",
    "        self.allusers = list(self.data.users['uID'])\n",
    "        self.allmovies = list(self.data.movies['mID'])\n",
    "        self.genres = list(self.data.movies.columns.drop(['mID', 'title', 'year']))\n",
    "        self.mid2idx = dict(zip(self.data.movies.mID, list(range(len(self.data.movies)))))\n",
    "        self.uid2idx = dict(zip(self.data.users.uID, list(range(len(self.data.users)))))\n",
    "        self.rating_matrix()\n",
    "        if average_rating:\n",
    "            self.predict_to_user_average()\n",
    "        self.latent_dim = latent_dim\n",
    "        self.user_factors = None\n",
    "        self.movie_factors = None\n",
    "        self.SVD_factorize()\n",
    "\n",
    "    #Create Rating Matrix (users x movies)\n",
    "    def rating_matrix(self):\n",
    "        ind_movie = [self.mid2idx[x] for x in self.data.train.mID]\n",
    "        ind_user = [self.uid2idx[x] for x in self.data.train.uID]\n",
    "        rating_train = list(self.data.train.rating)\n",
    "        self.Mr = np.array(coo_matrix((rating_train, (ind_user, ind_movie)), shape=(len(self.allusers), len(self.allmovies))).toarray())\n",
    "    \n",
    "    #Get Average rating for each user by movie\n",
    "    def predict_to_user_average(self):\n",
    "        user_sum = self.Mr.sum(axis=1)\n",
    "        user_count = (self.Mr > 0).sum(axis=1)\n",
    "        average_ratings = np.divide(user_sum, user_count, out=np.full_like(user_sum, 3, dtype=float), where=user_count != 0)\n",
    "\n",
    "        #Replace 0 entries with average rating for that user\n",
    "        self.Mr = np.where(self.Mr == 0, average_ratings.reshape(-1,1), self.Mr)\n",
    "        \n",
    "    # Factorize the rating matrix using SVD\n",
    "    def SVD_factorize(self):\n",
    "        model = NMF(n_components=self.latent_dim, init='random', random_state=42, max_iter=200)\n",
    "        U = model.fit_transform(self.Mr)\n",
    "        Vt = model.components_.T\n",
    "        self.user_factors = U\n",
    "        self.movie_factors = Vt\n",
    "    \n",
    "    # Predict the rating for a given user and movie using the dot product of user and movie latent features\n",
    "    def predict_matrix_factorized(self, uid, mid):\n",
    "        uidx = self.uid2idx.get(uid, None)\n",
    "        midx = self.mid2idx.get(mid, None)\n",
    "        if uidx is None or midx is None:\n",
    "            return 3\n",
    "        else:\n",
    "            pred = np.dot(self.user_factors[uidx], self.movie_factors[midx])\n",
    "            pred = np.clip(pred, 1, 5)\n",
    "            return pred\n",
    "\n",
    "    # Predict ratings for all user-movie pairs in the test set\n",
    "    def predict(self):\n",
    "        test_uids = self.data.test.uID\n",
    "        test_mids = self.data.test.mID\n",
    "        predictions = np.array([self.predict_matrix_factorized(uid, mid) for uid, mid in zip(test_uids, test_mids)])\n",
    "        return predictions\n",
    "\n",
    "    # Calculate RMSE between predicted and actual ratings\n",
    "    def rmse(self, yp):\n",
    "        yp[np.isnan(yp)] = 3\n",
    "        yt = np.array(self.data.test.rating)\n",
    "        return np.sqrt(((yt - yp) ** 2).mean())\n",
    "\n",
    "# Creating Sample test data\n",
    "np.random.seed(42)\n",
    "sample_train = train[:30000]\n",
    "sample_test = test[:30000]\n",
    "sample_MV_users = MV_users[(MV_users.uID.isin(sample_train.uID)) | (MV_users.uID.isin(sample_test.uID))]\n",
    "sample_MV_movies = MV_movies[(MV_movies.mID.isin(sample_train.mID)) | (MV_movies.mID.isin(sample_test.mID))]\n",
    "sample_data = Data(sample_MV_users, sample_MV_movies, sample_train, sample_test)\n",
    "print (sample_data.movies.shape)\n",
    "print (sample_data.users.shape)\n",
    "\n",
    "#Get Rating Matrix\n",
    "model_A = RecSys(sample_data,latent_dim = 10)\n",
    "yp = model_A.predict()\n",
    "print(f'Model_A RMSE: {model_A.rmse(yp)}')"
   ]
  },
  {
   "cell_type": "markdown",
   "id": "60a35c02",
   "metadata": {},
   "source": [
    "Observation\n",
    "\n",
    "- The rmse is very high with this matrix factorization technique which is far above 1.\n",
    "\n",
    "- In the process of factorizating, there are some Nan or 0 rating in the rating matrix which give rise to issues in the factorization.\n",
    "\n",
    "- For similiarity comprison in Week 3 assignment, the Nan ratings can be filtered and disregarded in similiarity matrix calculation.\n",
    "\n",
    "---\n",
    "\n",
    "Suggestion\n",
    "\n",
    "- We can use rating value averaging to replace 0 rating by the average score of the user"
   ]
  },
  {
   "cell_type": "code",
   "execution_count": 11,
   "id": "6185c53b",
   "metadata": {},
   "outputs": [
    {
     "name": "stdout",
     "output_type": "stream",
     "text": [
      "Model_B RMSE: 1.1423770092265007\n"
     ]
    }
   ],
   "source": [
    "model_B = RecSys(sample_data,latent_dim = 10,average_rating = True)\n",
    "yp = model_B.predict()\n",
    "print(f'Model_B RMSE: {model_B.rmse(yp)}')\n",
    "\n"
   ]
  },
  {
   "cell_type": "markdown",
   "id": "3ca3486a",
   "metadata": {},
   "source": [
    "# Discussion\n",
    "\n",
    "#### Experiment Results\n",
    "\n",
    "RMSE in this study shows the average prediction error in score. If RMSE is 1, and the prediction is 2, it means that the actual value is in the range of 1 to 3.\n",
    "\n",
    "With the given result:\n",
    "\n",
    "    Model A (raw sparse rating matrix) → RMSE ≈ 2.817\n",
    "\n",
    "    Model B (with user-average imputation) → RMSE ≈ 1.142\n",
    "\n",
    "- Model A performs poorly because it treats all 0s as real ratings, even though they represent missing values.\n",
    "\n",
    "- Model B improves significantly by filling missing values with user averages, which reduces noise and allows the model to learn real patterns.\n",
    "\n",
    "\n",
    "- In recommender systems, a zero in the matrix usually means \"no rating\" (missing data).\n",
    "However, sklearn.decomposition.NMF interprets it as \"user rated movie with 0\", which is not true.\n",
    "This introduces massive bias and noise into the model cauing th huge RMSE.\n",
    "\n",
    "- It can be corrected by using averaging rating to fill up the \"no rating\" cells for the user.\n",
    "\n",
    "--- \n",
    "\n",
    "Similarity model (in Week 3) works better\n",
    "\n",
    "-  similarity is conputed based on observed ratings only\n",
    "- The system was simple, interpretable, and robust against data sparsity\n",
    "\n",
    "In this case of movie rating predictions, the Similarity Model performs much better than the Matrix Factorization Model tested in this notebook.\n",
    "\n",
    "\n"
   ]
  },
  {
   "cell_type": "code",
   "execution_count": null,
   "id": "a785e7a8",
   "metadata": {},
   "outputs": [],
   "source": []
  },
  {
   "cell_type": "code",
   "execution_count": null,
   "id": "7beabe7d",
   "metadata": {},
   "outputs": [],
   "source": []
  }
 ],
 "metadata": {
  "kernelspec": {
   "display_name": "env",
   "language": "python",
   "name": "python3"
  },
  "language_info": {
   "codemirror_mode": {
    "name": "ipython",
    "version": 3
   },
   "file_extension": ".py",
   "mimetype": "text/x-python",
   "name": "python",
   "nbconvert_exporter": "python",
   "pygments_lexer": "ipython3",
   "version": "3.12.3"
  }
 },
 "nbformat": 4,
 "nbformat_minor": 5
}
